{
 "cells": [
  {
   "cell_type": "code",
   "execution_count": 20,
   "metadata": {},
   "outputs": [],
   "source": [
    "paragraph = \"This of is my ass\""
   ]
  },
  {
   "cell_type": "code",
   "execution_count": 21,
   "metadata": {},
   "outputs": [],
   "source": [
    "# timing functions\n",
    "import time\n",
    "\n",
    "paragraph = paragraph.lower()"
   ]
  },
  {
   "cell_type": "code",
   "execution_count": 22,
   "metadata": {},
   "outputs": [
    {
     "name": "stdout",
     "output_type": "stream",
     "text": [
      "['of', 'and', 'to', 'in', 'that']\n"
     ]
    }
   ],
   "source": [
    "# read common words from a csv file without first row\n",
    "import csv\n",
    "with open('../dicts/common_words/most-common-words-1k.csv', 'r') as f:\n",
    "    reader = csv.reader(f)\n",
    "    common_words = list(reader)\n",
    "    common_words = [word[0] for word in common_words]\n",
    "\n",
    "# print top 5 common words\n",
    "limit = 5\n",
    "print(common_words[1:1+limit])"
   ]
  },
  {
   "cell_type": "code",
   "execution_count": 23,
   "metadata": {},
   "outputs": [],
   "source": [
    "# read profanities from a csv file without first row\n",
    "with open('../dicts/profanities/profanity_en-us.csv', 'r', encoding=\"utf-8\") as f:\n",
    "    reader = csv.reader(f)\n",
    "    profanities = list(reader)\n",
    "    profanities = [word[0] for word in profanities]"
   ]
  },
  {
   "cell_type": "code",
   "execution_count": 24,
   "metadata": {},
   "outputs": [
    {
     "name": "stdout",
     "output_type": "stream",
     "text": [
      "Skip common word: this\n",
      "Skip common word: of\n",
      "is\n",
      "Skip common word: my\n",
      "Spam word: ass\n",
      "ass\n",
      "result\n",
      "this of is my SPAM\n"
     ]
    }
   ],
   "source": [
    "# Iteration in paragraph\n",
    "for word in paragraph.split():\n",
    "    if word in common_words:\n",
    "        print(\"Skip common word:\", word)\n",
    "        # Skip this word\n",
    "        continue\n",
    "    # If word is spam\n",
    "    if word in profanities:\n",
    "        print(\"Spam word:\", word)\n",
    "        # Replace this word with \"SPAM\"\n",
    "        paragraph = paragraph.replace(word, \"SPAM\")\n",
    "    # Print word\n",
    "    print(word)\n",
    "\n",
    "print(\"result\")\n",
    "print(paragraph)"
   ]
  },
  {
   "cell_type": "code",
   "execution_count": null,
   "metadata": {},
   "outputs": [],
   "source": []
  }
 ],
 "metadata": {
  "interpreter": {
   "hash": "a07269e0585e0d4199ed9aba9aaf9d87cdfd149ef5502657965dbda38b210d66"
  },
  "kernelspec": {
   "display_name": "Python 3.8.0 64-bit",
   "name": "python3"
  },
  "language_info": {
   "codemirror_mode": {
    "name": "ipython",
    "version": 3
   },
   "file_extension": ".py",
   "mimetype": "text/x-python",
   "name": "python",
   "nbconvert_exporter": "python",
   "pygments_lexer": "ipython3",
   "version": "3.8.0"
  },
  "orig_nbformat": 4
 },
 "nbformat": 4,
 "nbformat_minor": 2
}
